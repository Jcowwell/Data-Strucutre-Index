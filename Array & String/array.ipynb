{
 "cells": [
  {
   "cell_type": "markdown",
   "source": [
    "# Array\n",
    "In Python, Arrays, if were not importing external libraries, are just lists.\n",
    "Meaning in Python, \"Arrays\" are dynaimcally resizable. "
   ],
   "metadata": {}
  },
  {
   "cell_type": "markdown",
   "source": [
    "## LeetCode + Rosetta:\n",
    "    An array is a basic data structure to store a collection of elements sequentially. But elements can be accessed randomly since each element in the array can be identified by an array index.\n",
    "    An array can have one or more dimensions. Here we start with the one-dimensional array, which is also called the linear array. Here is an example:"
   ],
   "metadata": {}
  },
  {
   "cell_type": "code",
   "execution_count": 11,
   "source": [
    "#  initilize a \n",
    "# An \"Array\" (List) of integers\n",
    "array = [1,2,3]\n",
    "# Accessing any element in the \"array\" via index \n",
    "array[1]"
   ],
   "outputs": [
    {
     "output_type": "execute_result",
     "data": {
      "text/plain": [
       "2"
      ]
     },
     "metadata": {},
     "execution_count": 11
    }
   ],
   "metadata": {}
  },
  {
   "cell_type": "markdown",
   "source": [
    "## Two-Dimensional Arrays (Improper)"
   ],
   "metadata": {}
  },
  {
   "cell_type": "markdown",
   "source": [
    "### Helper Variables"
   ],
   "metadata": {}
  },
  {
   "cell_type": "code",
   "execution_count": 12,
   "source": [
    "size = 10\n",
    "width = 10\n",
    "height = 10"
   ],
   "outputs": [],
   "metadata": {}
  },
  {
   "cell_type": "markdown",
   "source": [
    "    This creates a list of \"height\" number of references to one list object ... which is a list of width instances of the number zero. \n",
    "    \n",
    "    Due to the differing semantics of immutables (strings, numbers) and mutables (dictionaries, lists), a change to any one of the \"rows\" will affect the values in all of them"
   ],
   "metadata": {}
  },
  {
   "cell_type": "code",
   "execution_count": 13,
   "source": [
    "# creates a two-dimensional array with \"height\" # of refernces to the list made from [[0] * width]\n",
    "array = [[0] * width] * height\n",
    "# sets 1 to the [0][0]th position of th list but will affect all [0][i] positions since this two-dimnensional array is just height # of references. \n",
    "array[0][0] = 1"
   ],
   "outputs": [],
   "metadata": {}
  },
  {
   "cell_type": "markdown",
   "source": [
    "\n",
    "    [1, 0, 0, 0, 0, 0, 0, 0, 0, 0]\n",
    "    [1, 0, 0, 0, 0, 0, 0, 0, 0, 0]\n",
    "    [1, 0, 0, 0, 0, 0, 0, 0, 0, 0]\n",
    "    [1, 0, 0, 0, 0, 0, 0, 0, 0, 0]\n",
    "    [1, 0, 0, 0, 0, 0, 0, 0, 0, 0]\n",
    "    [1, 0, 0, 0, 0, 0, 0, 0, 0, 0]\n",
    "    [1, 0, 0, 0, 0, 0, 0, 0, 0, 0]\n",
    "    [1, 0, 0, 0, 0, 0, 0, 0, 0, 0]\n",
    "    [1, 0, 0, 0, 0, 0, 0, 0, 0, 0]\n",
    "    [1, 0, 0, 0, 0, 0, 0, 0, 0, 0]"
   ],
   "metadata": {}
  },
  {
   "cell_type": "markdown",
   "source": [
    "## Two-Dimensional Arrays (Proper)"
   ],
   "metadata": {}
  },
  {
   "cell_type": "markdown",
   "source": [
    "    To initialize a list of lists one could use a pair of nested list comprehensions like so:"
   ],
   "metadata": {}
  },
  {
   "cell_type": "code",
   "execution_count": 14,
   "source": [
    "# uses list comprehension to ensure that each row is a newly generated \"array\"\n",
    "array = [[0 for _ in range(width)] for _ in range(height)]\n",
    "array[0][0] = 1"
   ],
   "outputs": [],
   "metadata": {}
  },
  {
   "cell_type": "markdown",
   "source": [
    "    [1, 0, 0, 0, 0, 0, 0, 0, 0, 0]\n",
    "    [0, 0, 0, 0, 0, 0, 0, 0, 0, 0]\n",
    "    [0, 0, 0, 0, 0, 0, 0, 0, 0, 0]\n",
    "    [0, 0, 0, 0, 0, 0, 0, 0, 0, 0]\n",
    "    [0, 0, 0, 0, 0, 0, 0, 0, 0, 0]\n",
    "    [0, 0, 0, 0, 0, 0, 0, 0, 0, 0]\n",
    "    [0, 0, 0, 0, 0, 0, 0, 0, 0, 0]\n",
    "    [0, 0, 0, 0, 0, 0, 0, 0, 0, 0]\n",
    "    [0, 0, 0, 0, 0, 0, 0, 0, 0, 0]\n",
    "    [0, 0, 0, 0, 0, 0, 0, 0, 0, 0]"
   ],
   "metadata": {}
  }
 ],
 "metadata": {
  "orig_nbformat": 4,
  "language_info": {
   "name": "python",
   "version": "3.8.2",
   "mimetype": "text/x-python",
   "codemirror_mode": {
    "name": "ipython",
    "version": 3
   },
   "pygments_lexer": "ipython3",
   "nbconvert_exporter": "python",
   "file_extension": ".py"
  },
  "kernelspec": {
   "name": "python3",
   "display_name": "Python 3.8.2 64-bit"
  },
  "interpreter": {
   "hash": "31f2aee4e71d21fbe5cf8b01ff0e069b9275f58929596ceb00d14d90e3e16cd6"
  }
 },
 "nbformat": 4,
 "nbformat_minor": 2
}