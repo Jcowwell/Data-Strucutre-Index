{
    "cells": [
        {
            "cell_type": "markdown",
            "source": [
                "# Quicksort \n",
                "Adopted From: https://stackoverflow.com/a/31102672 & http://rosettacode.org/wiki/Sorting_algorithms/Quicksort#Python\n",
                "\n",
                "Time Complexity - **O(n log(n))**\n",
                "\n",
                "Space Complexity - **O(n)**\n",
                "\n",
                "Developer Note: Sorts a list in place"
            ],
            "metadata": {}
        },
        {
            "cell_type": "markdown",
            "source": [
                "## Rosetta Notes:\n",
                "Quicksort, also known as *partition-exchange sort*, uses these steps.\n",
                "\n",
                "        1. Choose any element of the array to be the pivot.\n",
                "        2. Divide all other elements (except the pivot) into two partitions.\n",
                "                All elements less than the pivot must be in the first partition.\n",
                "                All elements greater than the pivot must be in the second partition.\n",
                "        3. Use recursion to sort both partitions.\n",
                "        4. Join the first sorted partition, the pivot, and the second sorted partition.\n",
                "\n",
                "The best pivot creates partitions of equal length (or lengths differing by 1).\n",
                "\n",
                "The worst pivot creates an empty partition (for example, if the pivot is the first or last element of a sorted array).\n",
                "\n",
                "The run-time of Quicksort ranges from O(n log n) with the best pivots, to O(n^2) with the worst pivots, where n is the number of elements in the array."
            ],
            "metadata": {}
        },
        {
            "cell_type": "markdown",
            "source": [
                "Quicksort has a reputation as the fastest sort. \n",
                "Optimized variants of quicksort are common features of many languages and libraries. \n",
                "One often contrasts quicksort with MergeSort, because both sorts have an average time of O(n log n).\n",
                "\n",
                "    \"On average, mergesort does fewer comparisons than quicksort, so it may be better when complicated comparison routines are used. \n",
                "    Mergesort also takes advantage of pre-existing order, so it would be favored for using sort() to merge several sorted arrays. \n",
                "    On the other hand, quicksort is often faster for small arrays, and on arrays of a few distinct values, repeated many times.\" \n",
                "— http://perldoc.perl.org/sort.html\n",
                "\n",
                "Quicksort is at one end of the spectrum of divide-and-conquer algorithms, with MergeSort at the opposite end.\n",
                "\n",
                "**Quicksort is a conquer-then-divide algorithm, \n",
                "which does most of the work during the partitioning and the recursive calls**. \n",
                "The subsequent reassembly of the sorted partitions involves trivial effort.\n",
                "\n",
                "**MergeSort is a divide-then-conquer algorithm. \n",
                "The partioning happens in a trivial way, by splitting the input array in half. \n",
                "Most of the work happens during the recursive calls and the merge phase**.\n",
                "\n",
                "With QuickSort, every element in the first partition is less than or equal to every element in the second partition. \n",
                "Therefore, the merge phase of quicksort is so trivial that it needs no mention!\n",
                "\n",
                "This task has not specified whether to allocate new arrays, or sort in place. \n",
                "This task also has not specified how to choose the pivot element. \n",
                "(Common ways to are to choose the first element, the middle element, or the median of three elements.) \n",
                "Thus there is a variety among the following implementations. \n"
            ],
            "metadata": {}
        },
        {
            "cell_type": "code",
            "execution_count": 2,
            "source": [
                "import random\n",
                "'''\n",
                "    Sort the range list[start_index, end_index] in-place with vanilla QuickSort\n",
                "\n",
                "    :param list:  the list of numbers to sort\n",
                "    :param start_index: the first index from list to begin sorting from,\n",
                "                must be in the range [0, len(list))\n",
                "    :param end_index: the last index from list to stop sorting at\n",
                "                must be in the range [start_index, len(list))\n",
                "    :return:    nothing, the side effect is that list[start_index, end_index] is sorted\n",
                "'''\n",
                "def quicksort(list: list, start_index: int, end_index: int):\n",
                "    \n",
                "    # we've reach the end of our paritition so let's return back\n",
                "    if start_index >= end_index:\n",
                "        return\n",
                "    i, j = start_index, end_index\n",
                "    # choose random piviot based on value in between the left and right index\n",
                "    pivot = list[random.randint(start_index, end_index)]\n",
                "\n",
                "    # while the left index is less than or equal to the right index\n",
                "    while i <= j:\n",
                "        # while the left element is less than the randomly chosen piviot\n",
                "        while list[i] < pivot:\n",
                "            # increase the left index by 1\n",
                "            i += 1\n",
                "        # while the right element is greater than the randomly chosen piviot\n",
                "        while list[j] pivot:\n",
                "            # decrease the right index by 1\n",
                "            j -= 1\n",
                "        # if the left index is less than or equal to the right index\n",
                "        if i <= j:\n",
                "            # swap left and right elements - vital since it wouldn;t be quicksort if it was not in-place.\n",
                "            list[i], list[j] = list[j], list[i]\n",
                "            # increment and decrement left and right index\n",
                "            i, j = i + 1, j - 1\n",
                "    # quicksort left partition\n",
                "    quicksort(list=list, start_index=start_index, end_index=j)\n",
                "    # quicksort right partition\n",
                "    quicksort(list=list, start_index=i, end_index=end_index)"
            ],
            "outputs": [],
            "metadata": {}
        },
        {
            "cell_type": "markdown",
            "source": [
                "## Example:"
            ],
            "metadata": {}
        },
        {
            "cell_type": "code",
            "execution_count": 4,
            "source": [
                "arr = [9,8,7,5,3,7,8,1]\n",
                "quicksort(list=arr, start_index=0, end_index=len(arr)-1)\n",
                "arr"
            ],
            "outputs": [
                {
                    "output_type": "execute_result",
                    "data": {
                        "text/plain": [
                            "[1, 3, 5, 7, 7, 8, 8, 9]"
                        ]
                    },
                    "metadata": {},
                    "execution_count": 4
                }
            ],
            "metadata": {}
        }
    ],
    "metadata": {
        "orig_nbformat": 4,
        "language_info": {
            "name": "python",
            "version": "3.8.2",
            "mimetype": "text/x-python",
            "codemirror_mode": {
                "name": "ipython",
                "version": 3
            },
            "pygments_lexer": "ipython3",
            "nbconvert_exporter": "python",
            "file_extension": ".py"
        },
        "kernelspec": {
            "name": "python3",
            "display_name": "Python 3.8.2 64-bit"
        },
        "interpreter": {
            "hash": "31f2aee4e71d21fbe5cf8b01ff0e069b9275f58929596ceb00d14d90e3e16cd6"
        }
    },
    "nbformat": 4,
    "nbformat_minor": 2
}